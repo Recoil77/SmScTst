{
 "cells": [
  {
   "cell_type": "code",
   "execution_count": 1,
   "id": "90f6e4e4",
   "metadata": {},
   "outputs": [
    {
     "ename": "SyntaxError",
     "evalue": "invalid syntax (Temp/ipykernel_6092/653349338.py, line 3)",
     "output_type": "error",
     "traceback": [
      "\u001b[1;36m  File \u001b[1;32m\"C:\\Users\\Anton\\AppData\\Local\\Temp/ipykernel_6092/653349338.py\"\u001b[1;36m, line \u001b[1;32m3\u001b[0m\n\u001b[1;33m    print 'Number of arguments:', len(sys.argv), 'arguments.'\u001b[0m\n\u001b[1;37m          ^\u001b[0m\n\u001b[1;31mSyntaxError\u001b[0m\u001b[1;31m:\u001b[0m invalid syntax\n"
     ]
    }
   ],
   "source": [
    "import sys\n",
    "\n",
    "#print 'Number of arguments:', len(sys.argv), 'arguments.'\n",
    "#print 'Argument List:', str(sys.argv)"
   ]
  },
  {
   "cell_type": "code",
   "execution_count": 45,
   "id": "7ccff0d9",
   "metadata": {},
   "outputs": [],
   "source": [
    "a = ['(johndoe)','([)]','', '{[(0 + 0)(1 + 1)](3*(-1)){()}}', '[sdf}', 'earfea', 'refqgavrf]','[43qfed']\n",
    "#for x in a:\n",
    "#    print(x)\n"
   ]
  },
  {
   "cell_type": "code",
   "execution_count": 26,
   "id": "6bdec296",
   "metadata": {},
   "outputs": [
    {
     "name": "stdout",
     "output_type": "stream",
     "text": [
      "(johndoe) OK )\n",
      "([)] OK ]\n",
      " OK empty\n",
      "{[(0 + 0)(1 + 1)](3*(-1)){()}} OK }\n",
      "[sdf} OK ]\n"
     ]
    }
   ],
   "source": [
    "for x in a:\n",
    "    print(x,end=\" \")\n",
    "    if x == '':\n",
    "        print(\"OK empty\")\n",
    "    elif x[0]=='[' and x[-1] == ']':\n",
    "        print(\"OK ]\")\n",
    "    elif x[0]=='(' and x[-1] == ')':\n",
    "        print(\"OK )\")\n",
    "    elif x[0]=='{' and x[-1] == '}':\n",
    "        print(\"OK }\")\n",
    "    elif x[0]!='[' or x[-1] != ']':\n",
    "        print(\"OK ]\")\n",
    "    elif x[0]!='(' or x[-1] != ')':\n",
    "        print(\"OK )\")\n",
    "    elif x[0]!='{' or x[-1] != '}':\n",
    "        print(\"OK }\")\n",
    "        \n",
    "    else:\n",
    "        print(\"KO\")\n",
    "        "
   ]
  },
  {
   "cell_type": "code",
   "execution_count": 27,
   "id": "3b93f10c",
   "metadata": {},
   "outputs": [
    {
     "data": {
      "text/plain": [
       "'('"
      ]
     },
     "execution_count": 27,
     "metadata": {},
     "output_type": "execute_result"
    }
   ],
   "source": [
    "a[1][0]"
   ]
  },
  {
   "cell_type": "code",
   "execution_count": 29,
   "id": "54222388",
   "metadata": {},
   "outputs": [
    {
     "data": {
      "text/plain": [
       "']'"
      ]
     },
     "execution_count": 29,
     "metadata": {},
     "output_type": "execute_result"
    }
   ],
   "source": [
    "a[1][-1]"
   ]
  },
  {
   "cell_type": "code",
   "execution_count": 13,
   "id": "6c7d08f3",
   "metadata": {},
   "outputs": [
    {
     "data": {
      "text/plain": [
       "')'"
      ]
     },
     "execution_count": 13,
     "metadata": {},
     "output_type": "execute_result"
    }
   ],
   "source": [
    "a[0][-1:]"
   ]
  },
  {
   "cell_type": "code",
   "execution_count": 34,
   "id": "5a954929",
   "metadata": {},
   "outputs": [
    {
     "data": {
      "text/plain": [
       "['(johndoe)', '([)]', '', '{[(0 + 0)(1 + 1)](3*(-1)){()}}', '[sdf}']"
      ]
     },
     "execution_count": 34,
     "metadata": {},
     "output_type": "execute_result"
    }
   ],
   "source": [
    "a\n"
   ]
  },
  {
   "cell_type": "code",
   "execution_count": 17,
   "id": "4e869045",
   "metadata": {},
   "outputs": [
    {
     "data": {
      "text/plain": [
       "True"
      ]
     },
     "execution_count": 17,
     "metadata": {},
     "output_type": "execute_result"
    }
   ],
   "source": [
    "a[2]==''"
   ]
  },
  {
   "cell_type": "code",
   "execution_count": 30,
   "id": "f6a2fc3c",
   "metadata": {},
   "outputs": [
    {
     "data": {
      "text/plain": [
       "False"
      ]
     },
     "execution_count": 30,
     "metadata": {},
     "output_type": "execute_result"
    }
   ],
   "source": [
    "a[1][0] == a[1][-1]"
   ]
  },
  {
   "cell_type": "code",
   "execution_count": 50,
   "id": "de37e8c3",
   "metadata": {},
   "outputs": [
    {
     "name": "stdout",
     "output_type": "stream",
     "text": [
      "1     (johndoe) OK\n",
      "2     ([)] KO\n",
      "3      OK\n",
      "4     {[(0 + 0)(1 + 1)](3*(-1)){()}} OK\n",
      "5     [sdf} KO\n",
      "6     earfea OK\n",
      "7     refqgavrf] KO\n",
      "8     [43qfed KO\n"
     ]
    }
   ],
   "source": [
    "i = 0\n",
    "for x in a:\n",
    "    i += 1\n",
    "    print(i, \"   \", x,end=\" \")\n",
    "    if x == '':\n",
    "        print(\"OK\")\n",
    "        continue;\n",
    "    if x[0]=='[' :\n",
    "        if x[-1] != ']':\n",
    "            print(\"KO\")\n",
    "            continue;\n",
    "        print(\"OK\")\n",
    "        continue;\n",
    "    if x[0]=='(' :\n",
    "        if x[-1] != ')':\n",
    "            print(\"KO\")\n",
    "            continue;\n",
    "        print(\"OK\")\n",
    "        continue;\n",
    "    if x[0]=='{' :\n",
    "        if x[-1] != '}':\n",
    "            print(\"KO\")\n",
    "            continue;\n",
    "        print(\"OK\")\n",
    "        continue;\n",
    "    if x[-1]=='{' or x[-1]=='(' or x[-1]=='[' or x[-1]=='}' or x[-1]==')' or x[-1]==']':\n",
    "        print(\"KO\")\n",
    "        continue;\n",
    "    print(\"OK\")\n",
    "        "
   ]
  },
  {
   "cell_type": "code",
   "execution_count": null,
   "id": "2cbce1ca",
   "metadata": {},
   "outputs": [],
   "source": []
  }
 ],
 "metadata": {
  "kernelspec": {
   "display_name": "Python 3 (ipykernel)",
   "language": "python",
   "name": "python3"
  },
  "language_info": {
   "codemirror_mode": {
    "name": "ipython",
    "version": 3
   },
   "file_extension": ".py",
   "mimetype": "text/x-python",
   "name": "python",
   "nbconvert_exporter": "python",
   "pygments_lexer": "ipython3",
   "version": "3.9.8"
  }
 },
 "nbformat": 4,
 "nbformat_minor": 5
}
